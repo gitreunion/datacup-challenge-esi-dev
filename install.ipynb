{
 "cells": [
  {
   "cell_type": "markdown",
   "metadata": {},
   "source": [
    "# Guide d'installation"
   ]
  },
  {
   "cell_type": "markdown",
   "metadata": {},
   "source": [
    "*Tester sur une installation propre de Ubuntu Server 24.04*"
   ]
  },
  {
   "cell_type": "markdown",
   "metadata": {},
   "source": [
    "Mise a jour du système:"
   ]
  },
  {
   "cell_type": "code",
   "execution_count": null,
   "metadata": {
    "vscode": {
     "languageId": "shellscript"
    }
   },
   "outputs": [],
   "source": [
    "#! /bin/bash\n",
    "sudo apt update && sudo apt upgrade -y"
   ]
  },
  {
   "cell_type": "markdown",
   "metadata": {},
   "source": [
    "Installation de paquet necessaire"
   ]
  },
  {
   "cell_type": "code",
   "execution_count": null,
   "metadata": {
    "vscode": {
     "languageId": "shellscript"
    }
   },
   "outputs": [],
   "source": [
    "#! /bin/bash\n",
    "sudo apt install curl git gh vim nano jq"
   ]
  },
  {
   "cell_type": "markdown",
   "metadata": {},
   "source": [
    "Mise en place de l'utilisateur"
   ]
  },
  {
   "cell_type": "code",
   "execution_count": null,
   "metadata": {
    "vscode": {
     "languageId": "shellscript"
    }
   },
   "outputs": [],
   "source": [
    "#!/bin/bash\n",
    "sudo adduser db_user  --system --comment 'MariaDB App system-user' --home /home/db_user --shell /bin/bash"
   ]
  },
  {
   "cell_type": "markdown",
   "metadata": {},
   "source": [
    "Mod de passe de l'utilisateur : "
   ]
  },
  {
   "cell_type": "code",
   "execution_count": null,
   "metadata": {
    "vscode": {
     "languageId": "shellscript"
    }
   },
   "outputs": [],
   "source": [
    "#!/bin/bash\n",
    "sudo passwd db_user\n",
    "# esiroi974"
   ]
  },
  {
   "cell_type": "markdown",
   "metadata": {},
   "source": [
    "## MariaDB"
   ]
  },
  {
   "cell_type": "markdown",
   "metadata": {},
   "source": [
    "### Installation de la DB"
   ]
  },
  {
   "cell_type": "code",
   "execution_count": null,
   "metadata": {
    "vscode": {
     "languageId": "shellscript"
    }
   },
   "outputs": [],
   "source": [
    "#! /bin/bash\n",
    "sudo apt install software-properties-common mariadb-server"
   ]
  },
  {
   "cell_type": "markdown",
   "metadata": {},
   "source": [
    "### Démarrage avec le serveur"
   ]
  },
  {
   "cell_type": "code",
   "execution_count": null,
   "metadata": {
    "vscode": {
     "languageId": "shellscript"
    }
   },
   "outputs": [],
   "source": [
    "#! /bin/bash\n",
    "sudo systemctl enable mariadb"
   ]
  },
  {
   "cell_type": "markdown",
   "metadata": {},
   "source": [
    "Démarrer maintenant"
   ]
  },
  {
   "cell_type": "code",
   "execution_count": null,
   "metadata": {
    "vscode": {
     "languageId": "shellscript"
    }
   },
   "outputs": [],
   "source": [
    "#!/bin/bash\n",
    "sudo systemctl start mariadb"
   ]
  },
  {
   "cell_type": "markdown",
   "metadata": {},
   "source": [
    "### Accès a MariaDB et création des tables:"
   ]
  },
  {
   "cell_type": "code",
   "execution_count": null,
   "metadata": {
    "vscode": {
     "languageId": "shellscript"
    }
   },
   "outputs": [],
   "source": [
    "#!/bin/bash\n",
    "sudo mariadb"
   ]
  },
  {
   "cell_type": "code",
   "execution_count": null,
   "metadata": {
    "vscode": {
     "languageId": "sql"
    }
   },
   "outputs": [],
   "source": [
    "CREATE DATABASE pollution_db;\n",
    "GRANT ALL PRIVILEGES ON pollution_db.* TO 'db_user'@'localhost' IDENTIFIED BY 'esiroi974';\n",
    "GRANT ALL PRIVILEGES ON pollution_db.* TO 'db_user'@'%'         IDENTIFIED BY 'esiroi974';\n",
    "FLUSH PRIVILEGES;"
   ]
  },
  {
   "cell_type": "code",
   "execution_count": null,
   "metadata": {
    "vscode": {
     "languageId": "sql"
    }
   },
   "outputs": [],
   "source": [
    "CREATE TABLE pollution_data (\n",
    "    object_id INT PRIMARY KEY,            -- Identifiant unique de chaque ligne, clé primaire\n",
    "    station_id VARCHAR(255),              -- Identifiant de la station\n",
    "    pollutant VARCHAR(255),               -- Nom du polluant\n",
    "    concentration FLOAT,                  -- Concentration du polluant\n",
    "    timestamp DATETIME,                   -- Date et heure de la mesure\n",
    "    typologie VARCHAR(255),               -- Typologie de la station (ex. urbain, industriel)\n",
    "    nom_station VARCHAR(255),             -- Nom de la station\n",
    "    unite VARCHAR(50),                    -- Unité de mesure (ex. µg/m³)\n",
    "    x FLOAT,                        -- Coordonnées géographiques (en x)\n",
    "    y FLOAT                         -- Coordonnées géographiques (en y)\n",
    ");\n",
    "\n",
    "SHOW COLUMNS IN pollution_data;\n",
    "\n",
    "\n",
    "ALTER TABLE stations \n",
    "ADD COLUMN seuil_1_depasse BOOLEAN GENERATED ALWAYS AS (concentration > 300) STORED,\n",
    "ADD COLUMN seuil_2_depasse BOOLEAN GENERATED ALWAYS AS (concentration > 500) STORED;"
   ]
  },
  {
   "cell_type": "markdown",
   "metadata": {},
   "source": [
    "Accès a la BDD"
   ]
  },
  {
   "cell_type": "code",
   "execution_count": null,
   "metadata": {
    "vscode": {
     "languageId": "shellscript"
    }
   },
   "outputs": [],
   "source": [
    "#!/bin/bash\n",
    "mariadb -h localhost -u db_user -pesiroi974 -D pollution_db"
   ]
  },
  {
   "cell_type": "markdown",
   "metadata": {},
   "source": [
    "## Installation de Python et des dépendances mariaDB"
   ]
  },
  {
   "cell_type": "code",
   "execution_count": null,
   "metadata": {
    "vscode": {
     "languageId": "shellscript"
    }
   },
   "outputs": [],
   "source": [
    "#!/bin/bash\n",
    "sudo apt install python3 python3-pip python3-venv"
   ]
  },
  {
   "cell_type": "code",
   "execution_count": null,
   "metadata": {
    "vscode": {
     "languageId": "shellscript"
    }
   },
   "outputs": [],
   "source": [
    "#!/bin/bash\n",
    "sudo apt install mariadb-client libmariadb-dev pkg-config"
   ]
  },
  {
   "cell_type": "markdown",
   "metadata": {},
   "source": [
    "### Installation de l'appli"
   ]
  },
  {
   "cell_type": "markdown",
   "metadata": {},
   "source": [
    "GIT clone"
   ]
  },
  {
   "cell_type": "code",
   "execution_count": null,
   "metadata": {
    "vscode": {
     "languageId": "shellscript"
    }
   },
   "outputs": [],
   "source": [
    "#!/bin/bash\n",
    "git clone https://github.com/gitreunion/datacup-challenge-esi-dev.git"
   ]
  },
  {
   "cell_type": "markdown",
   "metadata": {},
   "source": [
    "Environnement python : "
   ]
  },
  {
   "cell_type": "code",
   "execution_count": null,
   "metadata": {
    "vscode": {
     "languageId": "shellscript"
    }
   },
   "outputs": [],
   "source": [
    "#!/bin/bash\n",
    "cd ~/datacup-challenge-esi-dev/RequeteAPI\n",
    "mkdir venv\n",
    "python3 -m venv --prompt DB ./venv\n",
    "source venv/bin/activate"
   ]
  },
  {
   "cell_type": "code",
   "execution_count": null,
   "metadata": {
    "vscode": {
     "languageId": "shellscript"
    }
   },
   "outputs": [],
   "source": [
    "#!/bin/bash\n",
    "pip install requests pymysql"
   ]
  },
  {
   "cell_type": "code",
   "execution_count": null,
   "metadata": {
    "vscode": {
     "languageId": "shellscript"
    }
   },
   "outputs": [],
   "source": [
    "python ImportInitial.py\n",
    "python Importregulier.py\n"
   ]
  },
  {
   "cell_type": "code",
   "execution_count": null,
   "metadata": {
    "vscode": {
     "languageId": "shellscript"
    }
   },
   "outputs": [],
   "source": [
    "crontab -e\n",
    "#*/30 * * * * /home/db_user/datacup-challenge-esi-dev/RequeteAPI/venv/bin/python /home/db_user/datacup-challenge-esi-dev/RequeteAPI/Importregulier.py >> /home/db_user/datacup-challenge-esi-dev/RequeteAPI/import.log 2>&1"
   ]
  },
  {
   "cell_type": "markdown",
   "metadata": {},
   "source": [
    "### Installation des pré-requis"
   ]
  },
  {
   "cell_type": "markdown",
   "metadata": {},
   "source": [
    "## Lancement des serveurs"
   ]
  },
  {
   "cell_type": "code",
   "execution_count": null,
   "metadata": {
    "vscode": {
     "languageId": "shellscript"
    }
   },
   "outputs": [],
   "source": [
    "cd ~/datacup-challenge-esi-dev/DATACUP \n",
    "npm init -y\n",
    "npm install express mysql2 cors"
   ]
  },
  {
   "cell_type": "code",
   "execution_count": null,
   "metadata": {
    "vscode": {
     "languageId": "shellscript"
    }
   },
   "outputs": [],
   "source": [
    "node server.js"
   ]
  },
  {
   "cell_type": "markdown",
   "metadata": {},
   "source": [
    "### Lancement frontend"
   ]
  },
  {
   "cell_type": "code",
   "execution_count": null,
   "metadata": {
    "vscode": {
     "languageId": "shellscript"
    }
   },
   "outputs": [],
   "source": [
    "cd ~/datacup-challenge-esi-dev/DATACUP \n",
    "python3 -m http.server 8000"
   ]
  }
 ],
 "metadata": {
  "kernelspec": {
   "display_name": "Python 3 (ipykernel)",
   "language": "python",
   "name": "python3"
  },
  "language_info": {
   "codemirror_mode": {
    "name": "ipython",
    "version": 3
   },
   "file_extension": ".py",
   "mimetype": "text/x-python",
   "name": "python",
   "nbconvert_exporter": "python",
   "pygments_lexer": "ipython3",
   "version": "3.12.3"
  }
 },
 "nbformat": 4,
 "nbformat_minor": 4
}
