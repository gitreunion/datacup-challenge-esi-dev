{
 "cells": [
  {
   "cell_type": "markdown",
   "metadata": {},
   "source": [
    "Mise a jour du système:"
   ]
  },
  {
   "cell_type": "code",
   "execution_count": null,
   "metadata": {
    "vscode": {
     "languageId": "shellscript"
    }
   },
   "outputs": [],
   "source": [
    "#! /bin/bash\n",
    "sudo apt update && sudo apt upgrade -y"
   ]
  },
  {
   "cell_type": "markdown",
   "metadata": {},
   "source": [
    "Installation de paquet necessaire"
   ]
  },
  {
   "cell_type": "code",
   "execution_count": null,
   "metadata": {
    "vscode": {
     "languageId": "shellscript"
    }
   },
   "outputs": [],
   "source": [
    "#! /bin/bash\n",
    "sudo apt install curl git gh vim nano jq"
   ]
  },
  {
   "cell_type": "markdown",
   "metadata": {},
   "source": [
    "Mise en place de l'utilisateur"
   ]
  },
  {
   "cell_type": "code",
   "execution_count": null,
   "metadata": {
    "vscode": {
     "languageId": "shellscript"
    }
   },
   "outputs": [],
   "source": [
    "#!/bin/bash\n",
    "sudo adduser db_user  --system --comment 'MariaDB App system-user' --home /home/db_user --shell /bin/bash"
   ]
  },
  {
   "cell_type": "markdown",
   "metadata": {},
   "source": [
    "Mod de passe de l'utilisateur : "
   ]
  },
  {
   "cell_type": "code",
   "execution_count": null,
   "metadata": {
    "vscode": {
     "languageId": "shellscript"
    }
   },
   "outputs": [],
   "source": [
    "#!/bin/bash\n",
    "sudo passwd db_user\n",
    "# esiroi974"
   ]
  },
  {
   "cell_type": "markdown",
   "metadata": {},
   "source": [
    "## Partie 4 : Déploiment de l'API"
   ]
  },
  {
   "cell_type": "markdown",
   "metadata": {},
   "source": [
    "### MariaDB"
   ]
  },
  {
   "cell_type": "markdown",
   "metadata": {},
   "source": [
    "Installation de la DB"
   ]
  },
  {
   "cell_type": "code",
   "execution_count": null,
   "metadata": {
    "vscode": {
     "languageId": "shellscript"
    }
   },
   "outputs": [],
   "source": [
    "#! /bin/bash\n",
    "sudo apt install software-properties-common mariadb-server"
   ]
  },
  {
   "cell_type": "markdown",
   "metadata": {},
   "source": [
    "Démarrage avec le serveur"
   ]
  },
  {
   "cell_type": "code",
   "execution_count": null,
   "metadata": {
    "vscode": {
     "languageId": "shellscript"
    }
   },
   "outputs": [],
   "source": [
    "#! /bin/bash\n",
    "sudo systemctl enable mariadb"
   ]
  },
  {
   "cell_type": "markdown",
   "metadata": {},
   "source": [
    "Démarrer maintenant"
   ]
  },
  {
   "cell_type": "code",
   "execution_count": null,
   "metadata": {
    "vscode": {
     "languageId": "shellscript"
    }
   },
   "outputs": [],
   "source": [
    "#!/bin/bash\n",
    "sudo systemctl start mariadb"
   ]
  },
  {
   "cell_type": "markdown",
   "metadata": {},
   "source": [
    "Accès a MariaDB et création des tables:"
   ]
  },
  {
   "cell_type": "code",
   "execution_count": null,
   "metadata": {
    "vscode": {
     "languageId": "shellscript"
    }
   },
   "outputs": [],
   "source": [
    "#!/bin/bash\n",
    "sudo mariadb"
   ]
  },
  {
   "cell_type": "code",
   "execution_count": null,
   "metadata": {
    "vscode": {
     "languageId": "sql"
    }
   },
   "outputs": [],
   "source": [
    "CREATE DATABASE pollution_db;\n",
    "GRANT ALL PRIVILEGES ON pollution_db.* TO 'db_user'@'localhost' IDENTIFIED BY 'esiroi974';\n",
    "GRANT ALL PRIVILEGES ON pollution_db.* TO 'db_user'@'%'         IDENTIFIED BY 'esiroi974';\n",
    "FLUSH PRIVILEGES;"
   ]
  },
  {
   "cell_type": "code",
   "execution_count": null,
   "metadata": {
    "vscode": {
     "languageId": "sql"
    }
   },
   "outputs": [],
   "source": [
    "CREATE TABLE pollution_data (\n",
    "    object_id INT PRIMARY KEY,            -- Identifiant unique de chaque ligne, clé primaire\n",
    "    station_id VARCHAR(255),              -- Identifiant de la station\n",
    "    pollutant VARCHAR(255),               -- Nom du polluant\n",
    "    concentration FLOAT,                  -- Concentration du polluant\n",
    "    timestamp DATETIME,                   -- Date et heure de la mesure\n",
    "    typologie VARCHAR(255),               -- Typologie de la station (ex. urbain, industriel)\n",
    "    nom_station VARCHAR(255),             -- Nom de la station\n",
    "    unite VARCHAR(50),                    -- Unité de mesure (ex. µg/m³)\n",
    "    x FLOAT,                        -- Coordonnées géographiques (en x)\n",
    "    y FLOAT                         -- Coordonnées géographiques (en y)\n",
    ");\n",
    "\n",
    "SHOW COLUMNS IN pollution_data;"
   ]
  },
  {
   "cell_type": "markdown",
   "metadata": {},
   "source": [
    "Accès a la BDD"
   ]
  },
  {
   "cell_type": "code",
   "execution_count": null,
   "metadata": {
    "vscode": {
     "languageId": "shellscript"
    }
   },
   "outputs": [],
   "source": [
    "#!/bin/bash\n",
    "mariadb -h localhost -u db_user -pesiroi974 -D pollution_db"
   ]
  },
  {
   "cell_type": "markdown",
   "metadata": {},
   "source": [
    "Installation de Python et des dépendances mariaDB"
   ]
  },
  {
   "cell_type": "code",
   "execution_count": null,
   "metadata": {
    "vscode": {
     "languageId": "shellscript"
    }
   },
   "outputs": [],
   "source": [
    "#!/bin/bash\n",
    "sudo apt install python3 python3-pip python3-venv"
   ]
  },
  {
   "cell_type": "code",
   "execution_count": null,
   "metadata": {
    "vscode": {
     "languageId": "shellscript"
    }
   },
   "outputs": [],
   "source": [
    "#!/bin/bash\n",
    "sudo apt install mariadb-client libmariadb-dev pkg-config"
   ]
  },
  {
   "cell_type": "markdown",
   "metadata": {},
   "source": [
    "### Installation de l'appli"
   ]
  },
  {
   "cell_type": "markdown",
   "metadata": {},
   "source": [
    "GIT clone"
   ]
  },
  {
   "cell_type": "code",
   "execution_count": null,
   "metadata": {
    "vscode": {
     "languageId": "shellscript"
    }
   },
   "outputs": [],
   "source": [
    "#!/bin/bash\n",
    "# Connection a vapormap\n",
    "~/vapormap-prod\n",
    "git clone https://github.com/gitreunion/datacup-challenge-esi-dev.git"
   ]
  },
  {
   "cell_type": "markdown",
   "metadata": {},
   "source": [
    "Environnement python : "
   ]
  },
  {
   "cell_type": "code",
   "execution_count": null,
   "metadata": {
    "vscode": {
     "languageId": "shellscript"
    }
   },
   "outputs": [],
   "source": [
    "#!/bin/bash\n",
    "cd ~/datacup-challenge-esi-dev\n",
    "mkdir venv\n",
    "python3 -m venv --prompt vapormap-prod ./venv\n",
    "source venv/bin/activate"
   ]
  },
  {
   "cell_type": "markdown",
   "metadata": {},
   "source": [
    "Installation des pré-requis"
   ]
  },
  {
   "cell_type": "code",
   "execution_count": null,
   "metadata": {
    "vscode": {
     "languageId": "shellscript"
    }
   },
   "outputs": [],
   "source": [
    "#!/bin/bash\n",
    "pip install wheel\n",
    "cd ~/vapormap-prod/api/\n",
    "pip install -r requirements/production.txt"
   ]
  },
  {
   "cell_type": "markdown",
   "metadata": {},
   "source": [
    "Mise en place des variable d'environnement : "
   ]
  },
  {
   "cell_type": "code",
   "execution_count": null,
   "metadata": {
    "vscode": {
     "languageId": "shellscript"
    }
   },
   "outputs": [],
   "source": [
    "#!/bin/bash\n",
    "export VAPOR_DBNAME='db_vapormap'\n",
    "export VAPOR_DBUSER='user_vapormap'\n",
    "export VAPOR_DBPASS='vapormap'\n",
    "export VAPOR_DBHOST='localhost'\n",
    "export FLASK_APP=\"app\"\n",
    "export SETTINGS_FILE=\"production\""
   ]
  },
  {
   "cell_type": "markdown",
   "metadata": {},
   "source": [
    "Initialisation de la DB"
   ]
  },
  {
   "cell_type": "code",
   "execution_count": null,
   "metadata": {
    "vscode": {
     "languageId": "shellscript"
    }
   },
   "outputs": [],
   "source": [
    "#!/bin/bash\n",
    "cd ~/vapormap-prod/api/app\n",
    "flask db upgrade"
   ]
  },
  {
   "cell_type": "code",
   "execution_count": null,
   "metadata": {
    "vscode": {
     "languageId": "shellscript"
    }
   },
   "outputs": [],
   "source": [
    "#! /bin/bash\n",
    "export PYTHONDONTWRITEBYTECODE=1\n",
    "export PYTHONUNBUFFERED=1\n",
    "export PYTHONPATH=$HOME/vapormap-prod/api"
   ]
  },
  {
   "cell_type": "code",
   "execution_count": null,
   "metadata": {
    "vscode": {
     "languageId": "shellscript"
    }
   },
   "outputs": [],
   "source": [
    "#! /bin/bash\n",
    "cd ~/vapormap-prod/api\n",
    "gunicorn --bind 0.0.0.0:5000 wsgi:app\n",
    "bg 1\n",
    "curl http://localhost:5000/api/points/?format=json\n",
    "#Renvoie []\n",
    "fg 1\n",
    "#CTRL C\n"
   ]
  },
  {
   "cell_type": "markdown",
   "metadata": {},
   "source": [
    "## Partie 5"
   ]
  },
  {
   "cell_type": "code",
   "execution_count": null,
   "metadata": {
    "vscode": {
     "languageId": "shellscript"
    }
   },
   "outputs": [],
   "source": [
    "#! /bin/bash\n",
    "cd /home/app-vapormap/vapormap-prod/api\n",
    "\n",
    "export VAPORMAP_PATH='/home/app-vapormap/vapormap-prod/venv/bin'\n",
    "export VAPORMAP_DIR='/home/app-vapormap/vapormap-prod/api'\n",
    "export VAPORMAP_USER='app-vapormap'\n",
    "export VAPORMAP_GROUP='nogroup'\n",
    "export VAPOR_DBNAME='db_vapormap'\n",
    "export VAPOR_DBUSER='user_vapormap'\n",
    "export VAPOR_DBPASS='vapormap'\n",
    "export VAPOR_DBHOST='localhost'\n",
    "export VAPORMAP_API_PORT=5000\n",
    "export FLASK_APP=\"app\"\n",
    "export SETTINGS_FILE=\"production\"\n",
    "export PYTHONDONTWRITEBYTECODE=1\n",
    "export PYTHONUNBUFFERED=1\n",
    "export PYTHONPATH=$HOME/vapormap-prod/api\n"
   ]
  },
  {
   "cell_type": "markdown",
   "metadata": {},
   "source": [
    "La partie suivante ce fait en root"
   ]
  },
  {
   "cell_type": "code",
   "execution_count": null,
   "metadata": {
    "vscode": {
     "languageId": "shellscript"
    }
   },
   "outputs": [],
   "source": [
    "#! /bin/bash\n",
    "# Creation du fichier\n",
    "cp api-systemd.conf.template /etc/systemd/system/api-systemd.conf.template\n",
    "cd /etc/systemd/system\n",
    "envsubst < api-systemd.conf.template > api-systemd.service\n",
    "chmod 755 api-systemd.service\n",
    "# Activation du service\n",
    "sudo systemctl daemon-reload\n",
    "sudo systemctl enable api-systemd.service\n",
    "sudo systemctl start api-systemd.service\n",
    "sudo systemctl status api-systemd.service"
   ]
  },
  {
   "cell_type": "markdown",
   "metadata": {},
   "source": [
    "Test : "
   ]
  },
  {
   "cell_type": "code",
   "execution_count": null,
   "metadata": {
    "vscode": {
     "languageId": "shellscript"
    }
   },
   "outputs": [],
   "source": [
    "#! /bin/bash\n",
    "curl http://localhost:5000/api/points/?format=json\n",
    "# Renvoie []"
   ]
  },
  {
   "cell_type": "markdown",
   "metadata": {},
   "source": [
    "Sortie du root"
   ]
  },
  {
   "cell_type": "markdown",
   "metadata": {},
   "source": [
    "## Partie 6:"
   ]
  },
  {
   "cell_type": "code",
   "execution_count": null,
   "metadata": {
    "vscode": {
     "languageId": "shellscript"
    }
   },
   "outputs": [],
   "source": [
    "#! /bin/bash\n",
    "sudo apt install nginx-light\n",
    "sudo systemctl enable nginx"
   ]
  },
  {
   "cell_type": "markdown",
   "metadata": {},
   "source": [
    "Sur l'utilisateur vapor map : "
   ]
  },
  {
   "cell_type": "code",
   "execution_count": null,
   "metadata": {
    "vscode": {
     "languageId": "shellscript"
    }
   },
   "outputs": [],
   "source": [
    "#! /bin/bash\n",
    "cd ~/vapormap-prod/frontend\n",
    "export VAPORMAP_BACKEND_HOST=localhost\n",
    "export VAPORMAP_BACKEND_PORT=5000\n",
    "envsubst < config.json.template > html/config.json\n",
    "cat html/config.json\n"
   ]
  },
  {
   "cell_type": "markdown",
   "metadata": {},
   "source": [
    "Pour NGINX : "
   ]
  },
  {
   "cell_type": "markdown",
   "metadata": {},
   "source": [
    "- Passage sur root"
   ]
  },
  {
   "cell_type": "code",
   "execution_count": null,
   "metadata": {
    "vscode": {
     "languageId": "shellscript"
    }
   },
   "outputs": [],
   "source": [
    "#! /bin/bash\n",
    "export VAPORMAP_URL_SERVERNAME=0.0.0.0\n",
    "export VAPORMAP_URL_PORT=8000\n",
    "export VAPORMAP_FRONTEND_ROOT=/home/app-vapormap/vapormap-prod/frontend/html\n",
    "export uri='$uri' #Evite un méchant bug remplacant $uri par du vide lors du envsubst (1h pour comprendre le bug , j'apprecie mon existence)\n",
    "envsubst < /home/app-vapormap/vapormap-prod/frontend/nginx.conf.template > /etc/nginx/sites-available/vapormap\n",
    "cat /etc/nginx/sites-available/vapormap "
   ]
  },
  {
   "cell_type": "markdown",
   "metadata": {},
   "source": [
    "Creation du lien symbolique"
   ]
  },
  {
   "cell_type": "code",
   "execution_count": null,
   "metadata": {
    "vscode": {
     "languageId": "shellscript"
    }
   },
   "outputs": [],
   "source": [
    "#! /bin/bash\n",
    "ln -s /etc/nginx/sites-available/vapormap /etc/nginx/sites-enabled/vapormap"
   ]
  },
  {
   "cell_type": "markdown",
   "metadata": {},
   "source": [
    "Vérification et relance de Nginx"
   ]
  },
  {
   "cell_type": "code",
   "execution_count": null,
   "metadata": {
    "vscode": {
     "languageId": "shellscript"
    }
   },
   "outputs": [],
   "source": [
    "#! /bin/bash\n",
    "nginx -t\n",
    "systemctl restart nginx"
   ]
  },
  {
   "cell_type": "markdown",
   "metadata": {},
   "source": [
    "Modification de la configuration de Nginx: "
   ]
  },
  {
   "cell_type": "code",
   "execution_count": null,
   "metadata": {
    "vscode": {
     "languageId": "shellscript"
    }
   },
   "outputs": [],
   "source": [
    "#! /bin/bash\n",
    "# Pour savoir sous quel utilisateur/groupe tourne le service (merci internet)\n",
    "ps aux | grep nginx\n",
    "\n",
    "\n",
    "# Déterminer l'utilisateur et le groupe sous lesquels s'exécute Nginx\n",
    "\n",
    "sudo chmod 755 /home/app-vapormap\n",
    "sudo chmod 755 /home/app-vapormap/vapormap-prod\n",
    "\n",
    "# Autoriser l'accès en lecture au dossier\n",
    "sudo chgrp -R www-data /home/app-vapormap/vapormap-prod/frontend\n",
    "sudo chmod -R 750 /home/app-vapormap/vapormap-prod/frontend\n",
    "\n",
    "# Redémarrer Nginx\n",
    "sudo systemctl restart nginx"
   ]
  },
  {
   "cell_type": "markdown",
   "metadata": {},
   "source": [
    "## Partie 7 : Vérification"
   ]
  },
  {
   "cell_type": "code",
   "execution_count": null,
   "metadata": {
    "vscode": {
     "languageId": "shellscript"
    }
   },
   "outputs": [],
   "source": [
    "#! /bin/bash\n",
    "# Vérifier que le site est accessible\n",
    "curl http://localhost:8000\n",
    "curl http://localhost:5000/api/points/?format=json"
   ]
  },
  {
   "cell_type": "markdown",
   "metadata": {},
   "source": [
    "Il faut ensuite vérifier le bon fonctionnement du site : "
   ]
  },
  {
   "cell_type": "markdown",
   "metadata": {},
   "source": [
    "![](./image/1.png)"
   ]
  },
  {
   "cell_type": "code",
   "execution_count": null,
   "metadata": {
    "vscode": {
     "languageId": "shellscript"
    }
   },
   "outputs": [],
   "source": [
    "#! /bin/bash  \n",
    "# On reboot\n",
    "\n",
    "sudo reboot"
   ]
  },
  {
   "cell_type": "markdown",
   "metadata": {},
   "source": [
    "Après reboot le site affiche toujours les memes points , et fonctionne sans devoir redemarrer les services manuellement ! "
   ]
  },
  {
   "cell_type": "markdown",
   "metadata": {},
   "source": [
    "Vérification de la DB : "
   ]
  },
  {
   "cell_type": "code",
   "execution_count": null,
   "metadata": {
    "vscode": {
     "languageId": "shellscript"
    }
   },
   "outputs": [],
   "source": [
    "#! /bin/bash\n",
    "mariadb -h localhost -u user_vapormap -pvapormap -D db_vapormap"
   ]
  },
  {
   "cell_type": "code",
   "execution_count": null,
   "metadata": {
    "vscode": {
     "languageId": "sql"
    }
   },
   "outputs": [],
   "source": [
    "SHOW TABLES;\n",
    "SELECT * FROM point; \n",
    "-- La table api_point est ici plutot la table point\n",
    "-- Sortie : \n",
    "-- +----------+--------------+-----------+----------+---------+---------------------+\n",
    "-- | point_id | element_name | longitude | latitude | comment | date                |\n",
    "-- +----------+--------------+-----------+----------+---------+---------------------+\n",
    "-- |        1 | Hey          |   57.3926 |  35.4607 | NULL    | 2024-11-06 00:00:00 |\n",
    "-- |        2 | Hey          |   44.1211 |  20.6328 | NULL    | 2024-11-06 00:00:00 |\n",
    "-- |        3 | Hey          |    9.4043 |  46.6796 | NULL    | 2024-11-06 00:00:00 |\n",
    "-- |        4 | Hey          |   35.2441 |  51.6726 | NULL    | 2024-11-06 00:00:00 |\n",
    "-- |        5 | Hey          |    49.043 |  47.8721 | NULL    | 2024-11-06 00:00:00 |\n",
    "-- |        7 | Heydsd       |   15.4688 | -13.9234 | NULL    | 2024-11-06 00:00:00 |\n",
    "-- |        8 | dffd         |   78.5742 |  22.2688 | NULL    | 2024-11-21 00:00:00 |\n",
    "-- +----------+--------------+-----------+----------+---------+---------------------+"
   ]
  },
  {
   "cell_type": "markdown",
   "metadata": {},
   "source": [
    "## Partie 8:"
   ]
  },
  {
   "cell_type": "code",
   "execution_count": null,
   "metadata": {
    "vscode": {
     "languageId": "shellscript"
    }
   },
   "outputs": [],
   "source": [
    "#! /bin/bash\n",
    "cd /home/app-vapormap/vapormap-prod/api\n",
    "# Modifions plutot le template avec nano : \n",
    "nano api-systemd.conf.template \n",
    "#Créons les fichier par nous même (gunicorn n'a pas l'air des les créer)\n",
    "mkdir /var/log/vapormap/ && touch /var/log/vapormap/gunicorn-access.log\n",
    "touch /var/log/vapormap/gunicorn-error.log\n",
    "chown app-vapormap /var/log/vapormap/gunicorn-access.log\n",
    "chown app-vapormap /var/log/vapormap/gunicorn-error.log\n",
    "# On modifie l'execution de cette manière :\n",
    "${VAPORMAP_PATH}/gunicorn wsgi:app --bind 0.0.0.0:${VAPORMAP_API_PORT} --access-logfile /var/log/vapormap/gunicorn-access.log --error-logfile /var/log/vapormap/gunicorn-error.log\n",
    "# Sauvegarder et redemarrer le service : \n",
    "#(En sudo)\n",
    "cp /home/app-vapormap/vapormap-prod/api/api-systemd.conf.template /etc/systemd/system/api-systemd.conf.template\n",
    "cd /etc/systemd/system\n",
    "envsubst < api-systemd.conf.template > api-systemd.service\n",
    "chmod 755 api-systemd.service\n",
    "# Activation du service\n",
    "sudo systemctl daemon-reload\n",
    "sudo systemctl restart api-systemd.service\n",
    "sudo systemctl status api-systemd.service"
   ]
  },
  {
   "cell_type": "markdown",
   "metadata": {},
   "source": [
    "En créant volontairement des logs et erreur, les fichiers de logs sont bien rempli : "
   ]
  },
  {
   "cell_type": "code",
   "execution_count": null,
   "metadata": {
    "vscode": {
     "languageId": "shellscript"
    }
   },
   "outputs": [],
   "source": [
    "cat /var/log/vapormap/gunicorn-access.log\n",
    "# 10.0.2.2 - - [13/Nov/2024:19:34:36 +0400] \"POST /api/points/ HTTP/1.1\" 200 132 \"-\" \"Mozilla/5.0 (X11; Linux x86_64; rv:132.0) Gecko/20100101 Firefox/132.0\"\n",
    "# 10.0.2.2 - - [13/Nov/2024:19:34:36 +0400] \"GET /geojson HTTP/1.1\" 200 835 \"-\" \"Mozilla/5.0 (X11; Linux x86_64; rv:132.0) Gecko/20100101 Firefox/132.0\"\n",
    "# 10.0.2.2 - - [13/Nov/2024:19:34:40 +0400] \"POST /api/points/ HTTP/1.1\" 200 138 \"-\" \"Mozilla/5.0 (X11; Linux x86_64; rv:132.0) Gecko/20100101 Firefox/132.0\"\n",
    "# 10.0.2.2 - - [13/Nov/2024:19:34:40 +0400] \"GET /geojson HTTP/1.1\" 200 1001 \"-\" \"Mozilla/5.0 (X11; Linux x86_64; rv:132.0) Gecko/20100101 Firefox/132.0\"\n",
    "# 10.0.2.2 - - [13/Nov/2024:19:34:43 +0400] \"POST /api/points/ HTTP/1.1\" 500 31 \"-\" \"Mozilla/5.0 (X11; Linux x86_64; rv:132.0) Gecko/20100101 Firefox/132.0\"\n",
    "# 10.0.2.2 - - [13/Nov/2024:19:34:43 +0400] \"POST /api/points/ HTTP/1.1\" 500 31 \"-\" \"Mozilla/5.0 (X11; Linux x86_64; rv:132.0) Gecko/20100101 Firefox/132.0\"\n",
    "# 10.0.2.2 - - [13/Nov/2024:19:34:43 +0400] \"POST /api/points/ HTTP/1.1\" 500 31 \"-\" \"Mozilla/5.0 (X11; Linux x86_64; rv:132.0) Gecko/20100101 Firefox/132.0\"\n",
    "\n",
    "cat /var/log/vapormap/gunicorn-error.log \n",
    "\n",
    "# [2024-11-13 19:33:18 +0400] [3881] [INFO] Starting gunicorn 23.0.0\n",
    "# [2024-11-13 19:33:18 +0400] [3881] [INFO] Listening at: http://0.0.0.0:5000 (3881)\n",
    "# [2024-11-13 19:33:18 +0400] [3881] [INFO] Using worker: sync\n",
    "# [2024-11-13 19:33:18 +0400] [3882] [INFO] Booting worker with pid: 3882\n",
    "# [2024-11-13 19:34:36,246] WARNING in app: POST\n",
    "# [2024-11-13 19:34:40,840] WARNING in app: POST\n",
    "# [2024-11-13 19:34:43,096] WARNING in app: POST\n",
    "# [2024-11-13 19:34:43,097] WARNING in app: (MySQLdb.DataError) (1265, \"Data truncated for column 'longitude' at row 1\")\n",
    "# [SQL: INSERT INTO point (element_name, longitude, latitude, comment, date) VALUES (%s, %s, %s, %s, %s)]\n",
    "# [parameters: ('dffdqdsfsdfdsds', '60.4687cdvd5000000001', '-4.915832801313164', None, datetime.datetime(2024, 11, 21, 0, 0))]\n",
    "# (Background on this error at: https://sqlalche.me/e/20/9h9h)\n",
    "# [2024-11-13 19:34:43,636] WARNING in app: POST\n",
    "# [2024-11-13 19:34:43,638] WARNING in app: (MySQLdb.DataError) (1265, \"Data truncated for column 'longitude' at row 1\")\n",
    "# [SQL: INSERT INTO point (element_name, longitude, latitude, comment, date) VALUES (%s, %s, %s, %s, %s)]\n",
    "# [parameters: ('dffdqdsfsdfdsds', '60.4687cdvd5000000001', '-4.915832801313164', None, datetime.datetime(2024, 11, 21, 0, 0))]\n",
    "# (Background on this error at: https://sqlalche.me/e/20/9h9h)\n",
    "# [2024-11-13 19:34:43,811] WARNING in app: POST\n",
    "# [2024-11-13 19:34:43,812] WARNING in app: (MySQLdb.DataError) (1265, \"Data truncated for column 'longitude' at row 1\")\n",
    "# [SQL: INSERT INTO point (element_name, longitude, latitude, comment, date) VALUES (%s, %s, %s, %s, %s)]\n",
    "# [parameters: ('dffdqdsfsdfdsds', '60.4687cdvd5000000001', '-4.915832801313164', None, datetime.datetime(2024, 11, 21, 0, 0))]\n",
    "# (Background on this error at: https://sqlalche.me/e/20/9h9h)\n",
    "\n"
   ]
  },
  {
   "cell_type": "markdown",
   "metadata": {},
   "source": [
    "## Partie 9:"
   ]
  },
  {
   "cell_type": "markdown",
   "metadata": {},
   "source": [
    "Modifions de nouveau le fichier template : "
   ]
  },
  {
   "cell_type": "code",
   "execution_count": null,
   "metadata": {
    "vscode": {
     "languageId": "shellscript"
    }
   },
   "outputs": [],
   "source": [
    "#! /bin/bash\n",
    "nano /home/app-vapormap/vapormap-prod/frontend/nginx.conf.template\n",
    "# On modifie en ajoutant:\n",
    "\n",
    "# Backend API\n",
    "        location /api/ {\n",
    "            proxy_set_header Host ;\n",
    "            proxy_set_header X-Real-IP ;\n",
    "            proxy_set_header X-Scheme ;\n",
    "            proxy_set_header X-Forwarded-Proto ;\n",
    "            proxy_set_header X-Forwarded-For ;\n",
    "            proxy_pass http://127.0.0.1:5000/api/;\n",
    "            proxy_redirect off;\n",
    "        }\n",
    "\n",
    "        # Backend geojson\n",
    "        location /geojson {\n",
    "            proxy_set_header Host ;\n",
    "            proxy_set_header X-Real-IP ;\n",
    "            proxy_set_header X-Scheme ;\n",
    "            proxy_set_header X-Forwarded-Proto ;\n",
    "            proxy_set_header X-Forwarded-For ;\n",
    "            proxy_pass http://127.0.0.1:5000/geojson;\n",
    "            proxy_redirect off;\n",
    "        }\n",
    "# On prend en compte et on redemarre le service : \n",
    "\n",
    "export VAPORMAP_URL_SERVERNAME=0.0.0.0\n",
    "export VAPORMAP_URL_PORT=8000\n",
    "export VAPORMAP_FRONTEND_ROOT=/home/app-vapormap/vapormap-prod/frontend/html\n",
    "# Manière encore plus détourné pour éviter des problèmes avec envsubst (merci StackOverflow)\n",
    "envsubst '$VAPORMAP_URL_SERVERNAME $VAPORMAP_URL_PORT $VAPORMAP_FRONTEND_ROOT' < /home/app-vapormap/vapormap-prod/frontend/nginx.conf.template > /etc/nginx/sites-available/vapormap\n",
    "cat /etc/nginx/sites-available/vapormap \n",
    "nginx -t\n",
    "systemctl restart nginx\n"
   ]
  },
  {
   "cell_type": "markdown",
   "metadata": {},
   "source": [
    "Pour config.js repassons sur l'utilisateur vapormap:"
   ]
  },
  {
   "cell_type": "code",
   "execution_count": null,
   "metadata": {
    "vscode": {
     "languageId": "shellscript"
    }
   },
   "outputs": [],
   "source": [
    "#! /bin/bash\n",
    "cd ~/vapormap-prod/frontend\n",
    "export VAPORMAP_BACKEND_HOST=localhost\n",
    "export VAPORMAP_BACKEND_PORT=8000\n",
    "envsubst < config.json.template > html/config.json\n",
    "cat html/config.json\n",
    "curl http://localhost:8000/api/points/?format=json\n",
    "# Renvoie du json"
   ]
  },
  {
   "cell_type": "markdown",
   "metadata": {},
   "source": [
    "Pas besoin de changer la configuration de gunicorn il n'écoute que sur localhost."
   ]
  },
  {
   "cell_type": "code",
   "execution_count": null,
   "metadata": {
    "vscode": {
     "languageId": "shellscript"
    }
   },
   "outputs": [],
   "source": [
    "#! /bin/bash\n",
    "#Verification : \n",
    "sudo tail -f /var/log/nginx/access.log\n",
    "sudo tail -f /var/log/nginx/error.log\n",
    "\n",
    "cat /var/log/vapormap/gunicorn-access.log\n",
    "cat /var/log/vapormap/gunicorn-error.log \n",
    "\n"
   ]
  }
 ],
 "metadata": {
  "kernelspec": {
   "display_name": "Python 3 (ipykernel)",
   "language": "python",
   "name": "python3"
  },
  "language_info": {
   "codemirror_mode": {
    "name": "ipython",
    "version": 3
   },
   "file_extension": ".py",
   "mimetype": "text/x-python",
   "name": "python",
   "nbconvert_exporter": "python",
   "pygments_lexer": "ipython3",
   "version": "3.12.3"
  }
 },
 "nbformat": 4,
 "nbformat_minor": 4
}
